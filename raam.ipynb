{
 "cells": [
  {
   "cell_type": "code",
   "execution_count": 1,
   "id": "c33de394",
   "metadata": {},
   "outputs": [
    {
     "name": "stdout",
     "output_type": "stream",
     "text": [
      "{'HTTP': 80, 'HTTPS': 443, 'FTP': 21, 'DNS': 53}\n"
     ]
    }
   ],
   "source": [
    "L1 = ['HTTP', 'HTTPS', 'FTP', 'DNS']\n",
    "L2 = [80, 443, 21, 53]\n",
    "d = dict(zip(L1, L2))\n",
    "print(d)"
   ]
  },
  {
   "cell_type": "code",
   "execution_count": 2,
   "id": "a7ec717a",
   "metadata": {},
   "outputs": [
    {
     "name": "stdout",
     "output_type": "stream",
     "text": [
      "Enter a number: 5\n",
      "120\n"
     ]
    }
   ],
   "source": [
    "def f(x):\n",
    "    result = 1\n",
    "    for i in range(1, x + 1):\n",
    "        result *= i\n",
    "    return result\n",
    "\n",
    "number = int(input(\"Enter a number: \"))\n",
    "print(f(number))"
   ]
  },
  {
   "cell_type": "code",
   "execution_count": 3,
   "id": "2a237746",
   "metadata": {},
   "outputs": [
    {
     "name": "stdout",
     "output_type": "stream",
     "text": [
      "Bio\n"
     ]
    }
   ],
   "source": [
    "L = ['Network', 'Bio', 'Programming', 'Physics', 'Music']\n",
    "for item in L:\n",
    "    if item.startswith('B'):\n",
    "        print(item)"
   ]
  },
  {
   "cell_type": "code",
   "execution_count": 4,
   "id": "aaf9c9fb",
   "metadata": {},
   "outputs": [
    {
     "name": "stdout",
     "output_type": "stream",
     "text": [
      "{0: 1, 1: 2, 2: 3, 3: 4, 4: 5, 5: 6, 6: 7, 7: 8, 8: 9, 9: 10, 10: 11}\n"
     ]
    }
   ],
   "source": [
    "d = {i: i + 1 for i in range(11)}\n",
    "print(d)"
   ]
  },
  {
   "cell_type": "code",
   "execution_count": 5,
   "id": "ee4131de",
   "metadata": {},
   "outputs": [
    {
     "name": "stdout",
     "output_type": "stream",
     "text": [
      "Enter binary number 1001\n",
      "9\n"
     ]
    }
   ],
   "source": [
    "def b(x):\n",
    "    try:\n",
    "        d = int(x, 2)\n",
    "        return d\n",
    "    except:\n",
    "        return \"wrong binary number\"\n",
    "\n",
    "a = input(\"Enter binary number \")\n",
    "result = b(a)\n",
    "print(result)"
   ]
  },
  {
   "cell_type": "code",
   "execution_count": 7,
   "id": "bca9c664",
   "metadata": {},
   "outputs": [
    {
     "name": "stdout",
     "output_type": "stream",
     "text": [
      "أدخل اسمك: رئام\n",
      "3 * 3 = 9\n",
      "27 / 3 = 9\n",
      "4 + 4 = 8\n",
      "1+1 = 2\n",
      "20 - 10 = 10\n",
      "10 * 2 = 20\n",
      "16 / 4 = 4\n",
      "9 + 3 = 12\n",
      "3 * 3 = 9\n",
      "27 / 3 = 9\n",
      "4 + 4 = 8\n",
      "1+1 = 2\n",
      "20 - 10 = 10\n",
      "10 * 2 = 20\n",
      "16 / 4 = 0\n",
      "9 + 3 = 12\n",
      "3 * 3 = 3\n",
      "27 / 3 = 9\n",
      "4 + 4 = 5\n",
      "1+1 = 5\n",
      "رئام, 16\n"
     ]
    }
   ],
   "source": [
    "user_name = input(\"أدخل اسمك: \")\n",
    "\n",
    "quiz_data = []\n",
    "try:\n",
    "    quiz_file = open('quat.txt', 'r')\n",
    "    content_lines = quiz_file.readlines()\n",
    "    for content_line in content_lines:\n",
    "        quiz_question, quiz_answer = content_line.strip().split('=')\n",
    "        quiz_data.append((quiz_question.strip(), int(quiz_answer.strip())))\n",
    "except:\n",
    "    print(\"خطأ في قراءة الملف\")\n",
    "\n",
    "\n",
    "# حساب النتيجة\n",
    "total_score = 0\n",
    "for quiz_question, correct_response in quiz_data:\n",
    "    user_response = int(input(f\"{quiz_question} = \"))\n",
    "    if user_response == correct_response:\n",
    "        total_score += 1\n",
    "\n",
    "final_message = str(user_name)+\", \"+str(total_score)\n",
    "print(final_message)\n",
    "\n",
    "result_file = open('resault.csv', 'w')\n",
    "result_file.write(final_message)\n",
    "result_file.close()"
   ]
  },
  {
   "cell_type": "code",
   "execution_count": 8,
   "id": "826cb4cc",
   "metadata": {},
   "outputs": [
    {
     "name": "stdout",
     "output_type": "stream",
     "text": [
      "Balance after deposit: $1000.00\n",
      "Balance after withdrawal: $500.00\n",
      "Account Number: 787878\n",
      "Account Holder: رئام الملوبي\n",
      "Balance: $0.00\n",
      "Interest Rate: 25.00%\n"
     ]
    }
   ],
   "source": [
    "# Class BankAccount\n",
    "class BankAccount:\n",
    "    def __init__(self, account_number, account_holder):\n",
    "        self.account_number = account_number\n",
    "        self.account_holder = account_holder\n",
    "        self.balance = 0.0\n",
    "\n",
    "    def deposit(self, amount):\n",
    "        self.balance += amount\n",
    "\n",
    "    def withdraw(self, amount):\n",
    "        if self.balance >= amount:\n",
    "            self.balance -= amount\n",
    "        else:\n",
    "            print(\"Insufficient funds.\")\n",
    "\n",
    "    def get_balance(self):\n",
    "        return self.balance\n",
    "\n",
    "# Create an instance of BankAccount\n",
    "bank_account = BankAccount(\"2927\", \"رئام\")\n",
    "\n",
    "# Perform a deposit of $1000\n",
    "bank_account.deposit(1000)\n",
    "print(f\"Balance after deposit: ${bank_account.get_balance():.2f}\")\n",
    "\n",
    "# Perform a withdrawal of $500\n",
    "bank_account.withdraw(500)\n",
    "print(f\"Balance after withdrawal: ${bank_account.get_balance():.2f}\")\n",
    "\n",
    "# Subclass SavingsAccount\n",
    "class SavingsAccount(BankAccount):\n",
    "    def __init__(self, account_number, account_holder, interest_rate):\n",
    "        super().__init__(account_number, account_holder)\n",
    "        self.interest_rate = interest_rate\n",
    "\n",
    "    def apply_interest(self):\n",
    "        self.balance += self.balance * self.interest_rate\n",
    "\n",
    "    def __str__(self):\n",
    "        return f\"Account Number: {self.account_number}\\nAccount Holder: {self.account_holder}\\nBalance: ${self.balance:.2f}\\nInterest Rate: {self.interest_rate*100:.2f}%\"\n",
    "\n",
    "# Create an instance of SavingsAccount\n",
    "savings_account = SavingsAccount(\"787878\", \"رئام الملوبي\", 0.25)\n",
    "\n",
    "# Apply interest\n",
    "savings_account.apply_interest()\n",
    "print(savings_account)"
   ]
  },
  {
   "cell_type": "code",
   "execution_count": null,
   "id": "cd0b0cca",
   "metadata": {},
   "outputs": [],
   "source": []
  }
 ],
 "metadata": {
  "kernelspec": {
   "display_name": "Python 3 (ipykernel)",
   "language": "python",
   "name": "python3"
  },
  "language_info": {
   "codemirror_mode": {
    "name": "ipython",
    "version": 3
   },
   "file_extension": ".py",
   "mimetype": "text/x-python",
   "name": "python",
   "nbconvert_exporter": "python",
   "pygments_lexer": "ipython3",
   "version": "3.11.2"
  }
 },
 "nbformat": 4,
 "nbformat_minor": 5
}
